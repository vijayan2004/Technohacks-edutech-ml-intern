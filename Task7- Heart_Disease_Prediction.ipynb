{
 "cells": [
  {
   "cell_type": "markdown",
   "id": "a60bee6c",
   "metadata": {},
   "source": [
    "# VIJAYAN S\n",
    "\n",
    "A Project for an internship at \"TECHNOHACKS EDUTECH\"\n",
    "\n",
    "Task 7 : Heart Disease Prediction\n",
    "\n",
    "Dataset : heart.csv"
   ]
  },
  {
   "cell_type": "markdown",
   "id": "ca1a9d78",
   "metadata": {},
   "source": [
    "# Importing essential libraries"
   ]
  },
  {
   "cell_type": "code",
   "execution_count": 1,
   "id": "b060530d",
   "metadata": {},
   "outputs": [],
   "source": [
    "import numpy as np\n",
    "import pandas as pd\n",
    "import matplotlib.pyplot as plt\n",
    "import seaborn as sns\n",
    "\n",
    "%matplotlib inline\n",
    "\n",
    "import warnings\n",
    "warnings.filterwarnings('ignore')"
   ]
  },
  {
   "cell_type": "markdown",
   "id": "b2ce1f5e",
   "metadata": {},
   "source": [
    "# Importing dataset"
   ]
  },
  {
   "cell_type": "code",
   "execution_count": 2,
   "id": "25975d83",
   "metadata": {},
   "outputs": [
    {
     "data": {
      "text/html": [
       "<div>\n",
       "<style scoped>\n",
       "    .dataframe tbody tr th:only-of-type {\n",
       "        vertical-align: middle;\n",
       "    }\n",
       "\n",
       "    .dataframe tbody tr th {\n",
       "        vertical-align: top;\n",
       "    }\n",
       "\n",
       "    .dataframe thead th {\n",
       "        text-align: right;\n",
       "    }\n",
       "</style>\n",
       "<table border=\"1\" class=\"dataframe\">\n",
       "  <thead>\n",
       "    <tr style=\"text-align: right;\">\n",
       "      <th></th>\n",
       "      <th>age</th>\n",
       "      <th>sex</th>\n",
       "      <th>cp</th>\n",
       "      <th>trestbps</th>\n",
       "      <th>chol</th>\n",
       "      <th>fbs</th>\n",
       "      <th>restecg</th>\n",
       "      <th>thalach</th>\n",
       "      <th>exang</th>\n",
       "      <th>oldpeak</th>\n",
       "      <th>slope</th>\n",
       "      <th>ca</th>\n",
       "      <th>thal</th>\n",
       "      <th>target</th>\n",
       "    </tr>\n",
       "  </thead>\n",
       "  <tbody>\n",
       "    <tr>\n",
       "      <th>0</th>\n",
       "      <td>63</td>\n",
       "      <td>1</td>\n",
       "      <td>3</td>\n",
       "      <td>145</td>\n",
       "      <td>233</td>\n",
       "      <td>1</td>\n",
       "      <td>0</td>\n",
       "      <td>150</td>\n",
       "      <td>0</td>\n",
       "      <td>2.3</td>\n",
       "      <td>0</td>\n",
       "      <td>0</td>\n",
       "      <td>1</td>\n",
       "      <td>1</td>\n",
       "    </tr>\n",
       "    <tr>\n",
       "      <th>1</th>\n",
       "      <td>37</td>\n",
       "      <td>1</td>\n",
       "      <td>2</td>\n",
       "      <td>130</td>\n",
       "      <td>250</td>\n",
       "      <td>0</td>\n",
       "      <td>1</td>\n",
       "      <td>187</td>\n",
       "      <td>0</td>\n",
       "      <td>3.5</td>\n",
       "      <td>0</td>\n",
       "      <td>0</td>\n",
       "      <td>2</td>\n",
       "      <td>1</td>\n",
       "    </tr>\n",
       "    <tr>\n",
       "      <th>2</th>\n",
       "      <td>41</td>\n",
       "      <td>0</td>\n",
       "      <td>1</td>\n",
       "      <td>130</td>\n",
       "      <td>204</td>\n",
       "      <td>0</td>\n",
       "      <td>0</td>\n",
       "      <td>172</td>\n",
       "      <td>0</td>\n",
       "      <td>1.4</td>\n",
       "      <td>2</td>\n",
       "      <td>0</td>\n",
       "      <td>2</td>\n",
       "      <td>1</td>\n",
       "    </tr>\n",
       "    <tr>\n",
       "      <th>3</th>\n",
       "      <td>56</td>\n",
       "      <td>1</td>\n",
       "      <td>1</td>\n",
       "      <td>120</td>\n",
       "      <td>236</td>\n",
       "      <td>0</td>\n",
       "      <td>1</td>\n",
       "      <td>178</td>\n",
       "      <td>0</td>\n",
       "      <td>0.8</td>\n",
       "      <td>2</td>\n",
       "      <td>0</td>\n",
       "      <td>2</td>\n",
       "      <td>1</td>\n",
       "    </tr>\n",
       "    <tr>\n",
       "      <th>4</th>\n",
       "      <td>57</td>\n",
       "      <td>0</td>\n",
       "      <td>0</td>\n",
       "      <td>120</td>\n",
       "      <td>354</td>\n",
       "      <td>0</td>\n",
       "      <td>1</td>\n",
       "      <td>163</td>\n",
       "      <td>1</td>\n",
       "      <td>0.6</td>\n",
       "      <td>2</td>\n",
       "      <td>0</td>\n",
       "      <td>2</td>\n",
       "      <td>1</td>\n",
       "    </tr>\n",
       "  </tbody>\n",
       "</table>\n",
       "</div>"
      ],
      "text/plain": [
       "   age  sex  cp  trestbps  chol  fbs  restecg  thalach  exang  oldpeak  slope  \\\n",
       "0   63    1   3       145   233    1        0      150      0      2.3      0   \n",
       "1   37    1   2       130   250    0        1      187      0      3.5      0   \n",
       "2   41    0   1       130   204    0        0      172      0      1.4      2   \n",
       "3   56    1   1       120   236    0        1      178      0      0.8      2   \n",
       "4   57    0   0       120   354    0        1      163      1      0.6      2   \n",
       "\n",
       "   ca  thal  target  \n",
       "0   0     1       1  \n",
       "1   0     2       1  \n",
       "2   0     2       1  \n",
       "3   0     2       1  \n",
       "4   0     2       1  "
      ]
     },
     "execution_count": 2,
     "metadata": {},
     "output_type": "execute_result"
    }
   ],
   "source": [
    "dataset = pd.read_csv('/home/vijayan/projects/datasets/heart.csv')\n",
    "dataset.head()"
   ]
  },
  {
   "cell_type": "markdown",
   "id": "26ad0f8c",
   "metadata": {},
   "source": [
    "Verifying it as a 'dataframe' object in pandas\n",
    "\n",
    "# Exploratory Data Analysis (EDA)\n",
    "\n",
    "First, analysing the target variable:"
   ]
  },
  {
   "cell_type": "code",
   "execution_count": 3,
   "id": "90c73c53",
   "metadata": {},
   "outputs": [
    {
     "name": "stdout",
     "output_type": "stream",
     "text": [
      "target\n",
      "1    165\n",
      "0    138\n",
      "Name: count, dtype: int64\n"
     ]
    },
    {
     "data": {
      "image/png": "[encoded data removed]",
      "text/plain": [
       "<Figure size 640x480 with 1 Axes>"
      ]
     },
     "metadata": {},
     "output_type": "display_data"
    }
   ],
   "source": [
    "y = dataset[\"target\"]\n",
    "\n",
    "sns.countplot(y)\n",
    "\n",
    "\n",
    "target_temp = dataset.target.value_counts()\n",
    "\n",
    "print(target_temp)"
   ]
  },
  {
   "cell_type": "code",
   "execution_count": 4,
   "id": "d9a04ed0",
   "metadata": {},
   "outputs": [
    {
     "name": "stdout",
     "output_type": "stream",
     "text": [
      "Percentage of patience without heart problems: 45.54\n",
      "Percentage of patience with heart problems: 54.46\n"
     ]
    }
   ],
   "source": [
    "print(\"Percentage of patience without heart problems: \"+str(round(target_temp[0]*100/303,2)))\n",
    "print(\"Percentage of patience with heart problems: \"+str(round(target_temp[1]*100/303,2)))"
   ]
  },
  {
   "cell_type": "markdown",
   "id": "fa22f3af",
   "metadata": {},
   "source": [
    "# Analysing the 'Chest Pain Type' feature"
   ]
  },
  {
   "cell_type": "code",
   "execution_count": 5,
   "id": "96371fef",
   "metadata": {},
   "outputs": [
    {
     "data": {
      "text/plain": [
       "array([3, 2, 1, 0])"
      ]
     },
     "execution_count": 5,
     "metadata": {},
     "output_type": "execute_result"
    }
   ],
   "source": [
    "dataset[\"cp\"].unique()"
   ]
  },
  {
   "cell_type": "markdown",
   "id": "281e27d6",
   "metadata": {},
   "source": [
    "As expected, the CP feature has values from 0 to 3"
   ]
  },
  {
   "cell_type": "code",
   "execution_count": 6,
   "id": "cb434091",
   "metadata": {},
   "outputs": [
    {
     "data": {
      "text/plain": [
       "<Axes: xlabel='cp', ylabel='target'>"
      ]
     },
     "execution_count": 6,
     "metadata": {},
     "output_type": "execute_result"
    },
    {
     "data": {
      "image/png": "[encoded data removed]",
      "text/plain": [
       "<Figure size 640x480 with 1 Axes>"
      ]
     },
     "metadata": {},
     "output_type": "display_data"
    }
   ],
   "source": [
    "sns.barplot(x=dataset[\"cp\"],y=y)"
   ]
  },
  {
   "cell_type": "markdown",
   "id": "c0003134",
   "metadata": {},
   "source": [
    "We notice, that chest pain of '0', i.e. the ones with typical angina are much less likely to have heart problems"
   ]
  },
  {
   "cell_type": "markdown",
   "id": "8b2f2993",
   "metadata": {},
   "source": [
    "# Analysing the FBS feature"
   ]
  },
  {
   "cell_type": "code",
   "execution_count": 7,
   "id": "4bc6ad4c",
   "metadata": {},
   "outputs": [
    {
     "data": {
      "text/plain": [
       "count    303.000000\n",
       "mean       0.148515\n",
       "std        0.356198\n",
       "min        0.000000\n",
       "25%        0.000000\n",
       "50%        0.000000\n",
       "75%        0.000000\n",
       "max        1.000000\n",
       "Name: fbs, dtype: float64"
      ]
     },
     "execution_count": 7,
     "metadata": {},
     "output_type": "execute_result"
    }
   ],
   "source": [
    "dataset[\"fbs\"].describe()"
   ]
  },
  {
   "cell_type": "code",
   "execution_count": 8,
   "id": "7f3d4148",
   "metadata": {},
   "outputs": [
    {
     "data": {
      "text/plain": [
       "array([1, 0])"
      ]
     },
     "execution_count": 8,
     "metadata": {},
     "output_type": "execute_result"
    }
   ],
   "source": [
    "dataset[\"fbs\"].unique()"
   ]
  },
  {
   "cell_type": "code",
   "execution_count": 9,
   "id": "8392ba70",
   "metadata": {},
   "outputs": [
    {
     "data": {
      "text/plain": [
       "<Axes: xlabel='fbs', ylabel='target'>"
      ]
     },
     "execution_count": 9,
     "metadata": {},
     "output_type": "execute_result"
    },
    {
     "data": {
      "image/png": "[encoded data removed]",
      "text/plain": [
       "<Figure size 640x480 with 1 Axes>"
      ]
     },
     "metadata": {},
     "output_type": "display_data"
    }
   ],
   "source": [
    "sns.barplot(x=dataset[\"fbs\"],y=y)"
   ]
  },
  {
   "cell_type": "markdown",
   "id": "25f63899",
   "metadata": {},
   "source": [
    "Nothing extraordinary here"
   ]
  },
  {
   "cell_type": "markdown",
   "id": "f082c1cb",
   "metadata": {},
   "source": [
    "# Analysing the restecg feature"
   ]
  },
  {
   "cell_type": "code",
   "execution_count": 10,
   "id": "8c3874ea",
   "metadata": {},
   "outputs": [
    {
     "data": {
      "text/plain": [
       "array([0, 1, 2])"
      ]
     },
     "execution_count": 10,
     "metadata": {},
     "output_type": "execute_result"
    }
   ],
   "source": [
    "dataset[\"restecg\"].unique()"
   ]
  },
  {
   "cell_type": "code",
   "execution_count": 11,
   "id": "c479edfd",
   "metadata": {},
   "outputs": [
    {
     "data": {
      "text/plain": [
       "<Axes: xlabel='restecg', ylabel='target'>"
      ]
     },
     "execution_count": 11,
     "metadata": {},
     "output_type": "execute_result"
    },
    {
     "data": {
      "image/png": "[encoded data removed]",
      "text/plain": [
       "<Figure size 640x480 with 1 Axes>"
      ]
     },
     "metadata": {},
     "output_type": "display_data"
    }
   ],
   "source": [
    "sns.barplot(x=dataset[\"restecg\"],y=y)"
   ]
  },
  {
   "cell_type": "markdown",
   "id": "ac79b8b9",
   "metadata": {},
   "source": [
    "We realize that people with restecg '1' and '0' are much more likely to have a heart disease than with restecg '2'"
   ]
  },
  {
   "cell_type": "markdown",
   "id": "bd701813",
   "metadata": {},
   "source": [
    "# Analysing the 'exang' feature"
   ]
  },
  {
   "cell_type": "code",
   "execution_count": 12,
   "id": "ef197592",
   "metadata": {},
   "outputs": [
    {
     "data": {
      "text/plain": [
       "array([0, 1])"
      ]
     },
     "execution_count": 12,
     "metadata": {},
     "output_type": "execute_result"
    }
   ],
   "source": [
    "dataset[\"exang\"].unique()"
   ]
  },
  {
   "cell_type": "code",
   "execution_count": 13,
   "id": "cdd00958",
   "metadata": {},
   "outputs": [
    {
     "data": {
      "text/plain": [
       "<Axes: xlabel='exang', ylabel='target'>"
      ]
     },
     "execution_count": 13,
     "metadata": {},
     "output_type": "execute_result"
    },
    {
     "data": {
      "image/png": "[encoded data removed]",
      "text/plain": [
       "<Figure size 640x480 with 1 Axes>"
      ]
     },
     "metadata": {},
     "output_type": "display_data"
    }
   ],
   "source": [
    "sns.barplot(x=dataset[\"exang\"],y=y)"
   ]
  },
  {
   "cell_type": "markdown",
   "id": "a184f743",
   "metadata": {},
   "source": [
    "People with exang=1 i.e. Exercise induced angina are much less likely to have heart problems"
   ]
  },
  {
   "cell_type": "markdown",
   "id": "b4ee31b4",
   "metadata": {},
   "source": [
    "# Analysing the Slope feature"
   ]
  },
  {
   "cell_type": "code",
   "execution_count": 14,
   "id": "2d1f5148",
   "metadata": {},
   "outputs": [
    {
     "data": {
      "text/plain": [
       "array([0, 2, 1])"
      ]
     },
     "execution_count": 14,
     "metadata": {},
     "output_type": "execute_result"
    }
   ],
   "source": [
    "dataset[\"slope\"].unique()"
   ]
  },
  {
   "cell_type": "code",
   "execution_count": 15,
   "id": "11bd649c",
   "metadata": {},
   "outputs": [
    {
     "data": {
      "text/plain": [
       "<Axes: xlabel='slope', ylabel='target'>"
      ]
     },
     "execution_count": 15,
     "metadata": {},
     "output_type": "execute_result"
    },
    {
     "data": {
      "image/png": "[encoded data removed]",
      "text/plain": [
       "<Figure size 640x480 with 1 Axes>"
      ]
     },
     "metadata": {},
     "output_type": "display_data"
    }
   ],
   "source": [
    "sns.barplot(x=dataset[\"slope\"],y=y)"
   ]
  },
  {
   "cell_type": "markdown",
   "id": "ab7a40bb",
   "metadata": {},
   "source": [
    "We observe, that Slope '2' causes heart pain much more than Slope '0' and '1'"
   ]
  },
  {
   "cell_type": "markdown",
   "id": "9ca65dd8",
   "metadata": {},
   "source": [
    "# Analysing the 'ca' feature"
   ]
  },
  {
   "cell_type": "markdown",
   "id": "1d3d9c8c",
   "metadata": {},
   "source": [
    "number of major vessels (0-3) colored by flourosopy"
   ]
  },
  {
   "cell_type": "code",
   "execution_count": 16,
   "id": "44a96b13",
   "metadata": {},
   "outputs": [
    {
     "data": {
      "text/plain": [
       "array([0, 2, 1, 3, 4])"
      ]
     },
     "execution_count": 16,
     "metadata": {},
     "output_type": "execute_result"
    }
   ],
   "source": [
    "dataset[\"ca\"].unique()"
   ]
  },
  {
   "cell_type": "code",
   "execution_count": 17,
   "id": "e5b7ce12",
   "metadata": {},
   "outputs": [
    {
     "data": {
      "text/plain": [
       "<Axes: ylabel='count'>"
      ]
     },
     "execution_count": 17,
     "metadata": {},
     "output_type": "execute_result"
    },
    {
     "data": {
      "image/png": "[encoded data removed]",
      "text/plain": [
       "<Figure size 640x480 with 1 Axes>"
      ]
     },
     "metadata": {},
     "output_type": "display_data"
    }
   ],
   "source": [
    "sns.countplot(dataset[\"ca\"])"
   ]
  },
  {
   "cell_type": "code",
   "execution_count": 18,
   "id": "fbcd281a",
   "metadata": {},
   "outputs": [
    {
     "data": {
      "text/plain": [
       "<Axes: xlabel='ca', ylabel='target'>"
      ]
     },
     "execution_count": 18,
     "metadata": {},
     "output_type": "execute_result"
    },
    {
     "data": {
      "image/png": "[encoded data removed]",
      "text/plain": [
       "<Figure size 640x480 with 1 Axes>"
      ]
     },
     "metadata": {},
     "output_type": "display_data"
    }
   ],
   "source": [
    "sns.barplot(x=dataset[\"ca\"],y=y)"
   ]
  },
  {
   "cell_type": "markdown",
   "id": "3a68134a",
   "metadata": {},
   "source": [
    "ca=4 has astonishingly large number of heart patients"
   ]
  },
  {
   "cell_type": "markdown",
   "id": "eb37703c",
   "metadata": {},
   "source": [
    "### Analysing the 'thal' feature"
   ]
  },
  {
   "cell_type": "code",
   "execution_count": 19,
   "id": "78678b1b",
   "metadata": {},
   "outputs": [
    {
     "data": {
      "text/plain": [
       "array([1, 2, 3, 0])"
      ]
     },
     "execution_count": 19,
     "metadata": {},
     "output_type": "execute_result"
    }
   ],
   "source": [
    "dataset[\"thal\"].unique()"
   ]
  },
  {
   "cell_type": "code",
   "execution_count": 20,
   "id": "45407c56",
   "metadata": {},
   "outputs": [
    {
     "data": {
      "text/plain": [
       "<Axes: xlabel='thal', ylabel='target'>"
      ]
     },
     "execution_count": 20,
     "metadata": {},
     "output_type": "execute_result"
    },
    {
     "data": {
      "image/png": "[encoded data removed]",
      "text/plain": [
       "<Figure size 640x480 with 1 Axes>"
      ]
     },
     "metadata": {},
     "output_type": "display_data"
    }
   ],
   "source": [
    "sns.barplot(x=dataset[\"thal\"],y=y)"
   ]
  },
  {
   "cell_type": "code",
   "execution_count": 21,
   "id": "68a6ec01",
   "metadata": {},
   "outputs": [
    {
     "data": {
      "text/plain": [
       "<Axes: xlabel='thal', ylabel='Density'>"
      ]
     },
     "execution_count": 21,
     "metadata": {},
     "output_type": "execute_result"
    },
    {
     "data": {
      "image/png": "[encoded data removed]",
      "text/plain": [
       "<Figure size 640x480 with 1 Axes>"
      ]
     },
     "metadata": {},
     "output_type": "display_data"
    }
   ],
   "source": [
    "sns.distplot(dataset[\"thal\"])"
   ]
  },
  {
   "cell_type": "markdown",
   "id": "33907f73",
   "metadata": {},
   "source": [
    "# IV. Train Test split"
   ]
  },
  {
   "cell_type": "code",
   "execution_count": 22,
   "id": "afe363f6",
   "metadata": {},
   "outputs": [],
   "source": [
    "from sklearn.model_selection import train_test_split\n",
    "\n",
    "predictors = dataset.drop(\"target\",axis=1)\n",
    "target = dataset[\"target\"]\n",
    "\n",
    "X_train,X_test,Y_train,Y_test = train_test_split(predictors,target,test_size=0.20,random_state=0)"
   ]
  },
  {
   "cell_type": "code",
   "execution_count": 23,
   "id": "83b8a554",
   "metadata": {},
   "outputs": [
    {
     "data": {
      "text/plain": [
       "(242, 13)"
      ]
     },
     "execution_count": 23,
     "metadata": {},
     "output_type": "execute_result"
    }
   ],
   "source": [
    "X_train.shape"
   ]
  },
  {
   "cell_type": "code",
   "execution_count": 24,
   "id": "4a8b8f69",
   "metadata": {},
   "outputs": [
    {
     "data": {
      "text/plain": [
       "(61, 13)"
      ]
     },
     "execution_count": 24,
     "metadata": {},
     "output_type": "execute_result"
    }
   ],
   "source": [
    "X_test.shape"
   ]
  },
  {
   "cell_type": "code",
   "execution_count": 25,
   "id": "9220808c",
   "metadata": {},
   "outputs": [
    {
     "data": {
      "text/plain": [
       "(242,)"
      ]
     },
     "execution_count": 25,
     "metadata": {},
     "output_type": "execute_result"
    }
   ],
   "source": [
    "Y_train.shape"
   ]
  },
  {
   "cell_type": "code",
   "execution_count": 26,
   "id": "6676f750",
   "metadata": {},
   "outputs": [
    {
     "data": {
      "text/plain": [
       "(61,)"
      ]
     },
     "execution_count": 26,
     "metadata": {},
     "output_type": "execute_result"
    }
   ],
   "source": [
    "Y_test.shape"
   ]
  },
  {
   "cell_type": "markdown",
   "id": "b09a269e",
   "metadata": {},
   "source": [
    "# V. Model Fitting"
   ]
  },
  {
   "cell_type": "code",
   "execution_count": 27,
   "id": "ea0f36aa",
   "metadata": {},
   "outputs": [],
   "source": [
    "from sklearn.metrics import accuracy_score"
   ]
  },
  {
   "cell_type": "markdown",
   "id": "f81da8eb",
   "metadata": {},
   "source": [
    "## Logistic Regression"
   ]
  },
  {
   "cell_type": "code",
   "execution_count": 28,
   "id": "7dcb9479",
   "metadata": {},
   "outputs": [],
   "source": [
    "from sklearn.linear_model import LogisticRegression\n",
    "\n",
    "lr = LogisticRegression()\n",
    "\n",
    "lr.fit(X_train,Y_train)\n",
    "\n",
    "Y_pred_lr = lr.predict(X_test)"
   ]
  },
  {
   "cell_type": "code",
   "execution_count": 29,
   "id": "2902cba7",
   "metadata": {},
   "outputs": [
    {
     "data": {
      "text/plain": [
       "(61,)"
      ]
     },
     "execution_count": 29,
     "metadata": {},
     "output_type": "execute_result"
    }
   ],
   "source": [
    "Y_pred_lr.shape"
   ]
  },
  {
   "cell_type": "code",
   "execution_count": 30,
   "id": "15b998f8",
   "metadata": {},
   "outputs": [
    {
     "name": "stdout",
     "output_type": "stream",
     "text": [
      "The accuracy score achieved using Logistic Regression is: 85.25 %\n"
     ]
    }
   ],
   "source": [
    "score_lr = round(accuracy_score(Y_pred_lr,Y_test)*100,2)\n",
    "\n",
    "print(\"The accuracy score achieved using Logistic Regression is: \"+str(score_lr)+\" %\")"
   ]
  },
  {
   "cell_type": "markdown",
   "id": "a602e32d",
   "metadata": {},
   "source": [
    "# Naive Bayes"
   ]
  },
  {
   "cell_type": "code",
   "execution_count": 31,
   "id": "0e2530c8",
   "metadata": {},
   "outputs": [],
   "source": [
    "from sklearn.naive_bayes import GaussianNB\n",
    "\n",
    "nb = GaussianNB()\n",
    "\n",
    "nb.fit(X_train,Y_train)\n",
    "\n",
    "Y_pred_nb = nb.predict(X_test)"
   ]
  },
  {
   "cell_type": "code",
   "execution_count": 32,
   "id": "0535925b",
   "metadata": {},
   "outputs": [
    {
     "data": {
      "text/plain": [
       "(61,)"
      ]
     },
     "execution_count": 32,
     "metadata": {},
     "output_type": "execute_result"
    }
   ],
   "source": [
    "Y_pred_nb.shape"
   ]
  },
  {
   "cell_type": "code",
   "execution_count": 33,
   "id": "66d5175b",
   "metadata": {},
   "outputs": [
    {
     "name": "stdout",
     "output_type": "stream",
     "text": [
      "The accuracy score achieved using Naive Bayes is: 85.25 %\n"
     ]
    }
   ],
   "source": [
    "score_nb = round(accuracy_score(Y_pred_nb,Y_test)*100,2)\n",
    "\n",
    "print(\"The accuracy score achieved using Naive Bayes is: \"+str(score_nb)+\" %\")"
   ]
  },
  {
   "cell_type": "markdown",
   "id": "af57b6c5",
   "metadata": {},
   "source": [
    "# SVM"
   ]
  },
  {
   "cell_type": "code",
   "execution_count": 34,
   "id": "685a2f53",
   "metadata": {},
   "outputs": [],
   "source": [
    "from sklearn import svm\n",
    "\n",
    "sv = svm.SVC(kernel='linear')\n",
    "\n",
    "sv.fit(X_train, Y_train)\n",
    "\n",
    "Y_pred_svm = sv.predict(X_test)"
   ]
  },
  {
   "cell_type": "code",
   "execution_count": 35,
   "id": "b99b49d8",
   "metadata": {},
   "outputs": [
    {
     "data": {
      "text/plain": [
       "(61,)"
      ]
     },
     "execution_count": 35,
     "metadata": {},
     "output_type": "execute_result"
    }
   ],
   "source": [
    "Y_pred_svm.shape"
   ]
  },
  {
   "cell_type": "code",
   "execution_count": 36,
   "id": "8c8c60bb",
   "metadata": {},
   "outputs": [
    {
     "name": "stdout",
     "output_type": "stream",
     "text": [
      "The accuracy score achieved using Linear SVM is: 81.97 %\n"
     ]
    }
   ],
   "source": [
    "score_svm = round(accuracy_score(Y_pred_svm,Y_test)*100,2)\n",
    "\n",
    "print(\"The accuracy score achieved using Linear SVM is: \"+str(score_svm)+\" %\")"
   ]
  },
  {
   "cell_type": "markdown",
   "id": "292089bf",
   "metadata": {},
   "source": [
    "# K Nearest Neighbors"
   ]
  },
  {
   "cell_type": "code",
   "execution_count": 37,
   "id": "10285df5",
   "metadata": {},
   "outputs": [],
   "source": [
    "from sklearn.neighbors import KNeighborsClassifier\n",
    "\n",
    "knn = KNeighborsClassifier(n_neighbors=7)\n",
    "knn.fit(X_train,Y_train)\n",
    "Y_pred_knn=knn.predict(X_test)"
   ]
  },
  {
   "cell_type": "code",
   "execution_count": 38,
   "id": "2e3238d0",
   "metadata": {},
   "outputs": [
    {
     "data": {
      "text/plain": [
       "(61,)"
      ]
     },
     "execution_count": 38,
     "metadata": {},
     "output_type": "execute_result"
    }
   ],
   "source": [
    "Y_pred_knn.shape"
   ]
  },
  {
   "cell_type": "code",
   "execution_count": 39,
   "id": "6ace248b",
   "metadata": {},
   "outputs": [
    {
     "name": "stdout",
     "output_type": "stream",
     "text": [
      "The accuracy score achieved using KNN is: 67.21 %\n"
     ]
    }
   ],
   "source": [
    "score_knn = round(accuracy_score(Y_pred_knn,Y_test)*100,2)\n",
    "\n",
    "print(\"The accuracy score achieved using KNN is: \"+str(score_knn)+\" %\")"
   ]
  },
  {
   "cell_type": "markdown",
   "id": "a8cc1f16",
   "metadata": {},
   "source": [
    "# Decision Tree"
   ]
  },
  {
   "cell_type": "code",
   "execution_count": 40,
   "id": "469d72a7",
   "metadata": {},
   "outputs": [],
   "source": [
    "from sklearn.tree import DecisionTreeClassifier\n",
    "\n",
    "max_accuracy = 0\n",
    "\n",
    "\n",
    "for x in range(200):\n",
    "    dt = DecisionTreeClassifier(random_state=x)\n",
    "    dt.fit(X_train,Y_train)\n",
    "    Y_pred_dt = dt.predict(X_test)\n",
    "    current_accuracy = round(accuracy_score(Y_pred_dt,Y_test)*100,2)\n",
    "    if(current_accuracy>max_accuracy):\n",
    "        max_accuracy = current_accuracy\n",
    "        best_x = x\n",
    "        \n",
    "#print(max_accuracy)\n",
    "#print(best_x)\n",
    "\n",
    "\n",
    "dt = DecisionTreeClassifier(random_state=best_x)\n",
    "dt.fit(X_train,Y_train)\n",
    "Y_pred_dt = dt.predict(X_test)"
   ]
  },
  {
   "cell_type": "code",
   "execution_count": 41,
   "id": "f7b41a1e",
   "metadata": {},
   "outputs": [
    {
     "name": "stdout",
     "output_type": "stream",
     "text": [
      "(61,)\n"
     ]
    }
   ],
   "source": [
    "print(Y_pred_dt.shape)"
   ]
  },
  {
   "cell_type": "code",
   "execution_count": 42,
   "id": "49c28892",
   "metadata": {},
   "outputs": [
    {
     "name": "stdout",
     "output_type": "stream",
     "text": [
      "The accuracy score achieved using Decision Tree is: 81.97 %\n"
     ]
    }
   ],
   "source": [
    "score_dt = round(accuracy_score(Y_pred_dt,Y_test)*100,2)\n",
    "\n",
    "print(\"The accuracy score achieved using Decision Tree is: \"+str(score_dt)+\" %\")"
   ]
  },
  {
   "cell_type": "markdown",
   "id": "83710125",
   "metadata": {},
   "source": [
    "# Random Forest"
   ]
  },
  {
   "cell_type": "code",
   "execution_count": 43,
   "id": "f5117805",
   "metadata": {},
   "outputs": [],
   "source": [
    "from sklearn.ensemble import RandomForestClassifier\n",
    "\n",
    "max_accuracy = 0\n",
    "\n",
    "for x in range(100):\n",
    "    rf = RandomForestClassifier(random_state=x)\n",
    "    rf.fit(X_train,Y_train)\n",
    "    Y_pred_rf = rf.predict(X_test)\n",
    "    current_accuracy = round(accuracy_score(Y_pred_rf,Y_test)*100,2)\n",
    "    if(current_accuracy>max_accuracy):\n",
    "        max_accuracy = current_accuracy\n",
    "        best_x = x\n",
    "\n",
    "rf = RandomForestClassifier(random_state=best_x)\n",
    "rf.fit(X_train,Y_train)\n",
    "Y_pred_rf = rf.predict(X_test)"
   ]
  },
  {
   "cell_type": "code",
   "execution_count": 44,
   "id": "198a1cdc",
   "metadata": {},
   "outputs": [
    {
     "data": {
      "text/plain": [
       "(61,)"
      ]
     },
     "execution_count": 44,
     "metadata": {},
     "output_type": "execute_result"
    }
   ],
   "source": [
    "Y_pred_rf.shape"
   ]
  },
  {
   "cell_type": "code",
   "execution_count": 45,
   "id": "287c8ca2",
   "metadata": {},
   "outputs": [
    {
     "name": "stdout",
     "output_type": "stream",
     "text": [
      "The accuracy score achieved using Decision Tree is: 88.52 %\n"
     ]
    }
   ],
   "source": [
    "score_rf = round(accuracy_score(Y_pred_rf,Y_test)*100,2)\n",
    "\n",
    "print(\"The accuracy score achieved using Decision Tree is: \"+str(score_rf)+\" %\")"
   ]
  },
  {
   "cell_type": "markdown",
   "id": "578f2c10",
   "metadata": {},
   "source": [
    "# XGBoost"
   ]
  },
  {
   "cell_type": "code",
   "execution_count": 46,
   "id": "42b60177",
   "metadata": {},
   "outputs": [],
   "source": [
    "import xgboost as xgb\n",
    "\n",
    "xgb_model = xgb.XGBClassifier(objective=\"binary:logistic\", random_state=42)\n",
    "xgb_model.fit(X_train, Y_train)\n",
    "\n",
    "Y_pred_xgb = xgb_model.predict(X_test)"
   ]
  },
  {
   "cell_type": "code",
   "execution_count": 47,
   "id": "804247f4",
   "metadata": {},
   "outputs": [
    {
     "data": {
      "text/plain": [
       "(61,)"
      ]
     },
     "execution_count": 47,
     "metadata": {},
     "output_type": "execute_result"
    }
   ],
   "source": [
    "Y_pred_xgb.shape"
   ]
  },
  {
   "cell_type": "code",
   "execution_count": 48,
   "id": "04790346",
   "metadata": {},
   "outputs": [
    {
     "name": "stdout",
     "output_type": "stream",
     "text": [
      "The accuracy score achieved using XGBoost is: 78.69 %\n"
     ]
    }
   ],
   "source": [
    "score_xgb = round(accuracy_score(Y_pred_xgb,Y_test)*100,2)\n",
    "\n",
    "print(\"The accuracy score achieved using XGBoost is: \"+str(score_xgb)+\" %\")"
   ]
  },
  {
   "cell_type": "markdown",
   "id": "27b2d187",
   "metadata": {},
   "source": [
    "# Neural Network"
   ]
  },
  {
   "cell_type": "code",
   "execution_count": 56,
   "id": "fce607f7",
   "metadata": {},
   "outputs": [],
   "source": [
    "from keras.models import Sequential\n",
    "from keras.layers import Dense\n",
    "\n",
    "import warnings\n",
    "warnings.filterwarnings('ignore')"
   ]
  },
  {
   "cell_type": "code",
   "execution_count": 57,
   "id": "e3b29506",
   "metadata": {},
   "outputs": [],
   "source": [
    "# https://stats.stackexchange.com/a/136542 helped a lot in avoiding overfitting\n",
    "\n",
    "model = Sequential()\n",
    "model.add(Dense(11,activation='relu',input_dim=13))\n",
    "model.add(Dense(1,activation='sigmoid'))\n",
    "\n",
    "model.compile(loss='binary_crossentropy',optimizer='adam',metrics=['accuracy'])"
   ]
  },
  {
   "cell_type": "code",
   "execution_count": 58,
   "id": "622ed85f",
   "metadata": {},
   "outputs": [
    {
     "name": "stdout",
     "output_type": "stream",
     "text": [
      "Epoch 1/300\n",
      "8/8 [==============================] - 1s 5ms/step - loss: 8.4506 - accuracy: 0.5083\n",
      "Epoch 2/300\n",
      "8/8 [==============================] - 0s 5ms/step - loss: 7.4841 - accuracy: 0.5826\n",
      "Epoch 3/300\n",
      "8/8 [==============================] - 0s 5ms/step - loss: 6.8628 - accuracy: 0.5868\n",
      "Epoch 4/300\n",
      "8/8 [==============================] - 0s 6ms/step - loss: 6.2402 - accuracy: 0.5496\n",
      "Epoch 5/300\n",
      "8/8 [==============================] - 0s 8ms/step - loss: 5.6975 - accuracy: 0.5289\n",
      "Epoch 6/300\n",
      "8/8 [==============================] - 0s 8ms/step - loss: 5.1505 - accuracy: 0.5496\n",
      "Epoch 7/300\n",
      "8/8 [==============================] - 0s 6ms/step - loss: 4.7180 - accuracy: 0.5496\n",
      "Epoch 8/300\n",
      "8/8 [==============================] - 0s 6ms/step - loss: 4.2859 - accuracy: 0.5537\n",
      "Epoch 9/300\n",
      "8/8 [==============================] - 0s 7ms/step - loss: 3.9600 - accuracy: 0.5289\n",
      "Epoch 10/300\n",
      "8/8 [==============================] - 0s 7ms/step - loss: 3.5775 - accuracy: 0.5579\n",
      "Epoch 11/300\n",
      "8/8 [==============================] - 0s 7ms/step - loss: 3.3426 - accuracy: 0.5372\n",
      "Epoch 12/300\n",
      "8/8 [==============================] - 0s 7ms/step - loss: 2.9976 - accuracy: 0.5620\n",
      "Epoch 13/300\n",
      "8/8 [==============================] - 0s 6ms/step - loss: 2.7000 - accuracy: 0.5455\n",
      "Epoch 14/300\n",
      "8/8 [==============================] - 0s 6ms/step - loss: 2.4456 - accuracy: 0.5331\n",
      "Epoch 15/300\n",
      "8/8 [==============================] - 0s 6ms/step - loss: 2.2406 - accuracy: 0.5620\n",
      "Epoch 16/300\n",
      "8/8 [==============================] - 0s 6ms/step - loss: 1.9970 - accuracy: 0.5083\n",
      "Epoch 17/300\n",
      "8/8 [==============================] - 0s 6ms/step - loss: 1.7747 - accuracy: 0.5744\n",
      "Epoch 18/300\n",
      "8/8 [==============================] - 0s 5ms/step - loss: 1.5675 - accuracy: 0.5661\n",
      "Epoch 19/300\n",
      "8/8 [==============================] - 0s 5ms/step - loss: 1.3700 - accuracy: 0.5785\n",
      "Epoch 20/300\n",
      "8/8 [==============================] - 0s 5ms/step - loss: 1.2134 - accuracy: 0.5785\n",
      "Epoch 21/300\n",
      "8/8 [==============================] - 0s 5ms/step - loss: 1.0876 - accuracy: 0.5950\n",
      "Epoch 22/300\n",
      "8/8 [==============================] - 0s 7ms/step - loss: 1.0142 - accuracy: 0.6033\n",
      "Epoch 23/300\n",
      "8/8 [==============================] - 0s 6ms/step - loss: 0.8993 - accuracy: 0.6364\n",
      "Epoch 24/300\n",
      "8/8 [==============================] - 0s 7ms/step - loss: 0.8223 - accuracy: 0.6818\n",
      "Epoch 25/300\n",
      "8/8 [==============================] - 0s 6ms/step - loss: 0.7779 - accuracy: 0.6736\n",
      "Epoch 26/300\n",
      "8/8 [==============================] - 0s 7ms/step - loss: 0.7232 - accuracy: 0.7397\n",
      "Epoch 27/300\n",
      "8/8 [==============================] - 0s 7ms/step - loss: 0.7004 - accuracy: 0.7190\n",
      "Epoch 28/300\n",
      "8/8 [==============================] - 0s 6ms/step - loss: 0.6648 - accuracy: 0.7273\n",
      "Epoch 29/300\n",
      "8/8 [==============================] - 0s 6ms/step - loss: 0.6468 - accuracy: 0.7397\n",
      "Epoch 30/300\n",
      "8/8 [==============================] - 0s 6ms/step - loss: 0.6213 - accuracy: 0.7727\n",
      "Epoch 31/300\n",
      "8/8 [==============================] - 0s 6ms/step - loss: 0.6163 - accuracy: 0.7727\n",
      "Epoch 32/300\n",
      "8/8 [==============================] - 0s 6ms/step - loss: 0.6006 - accuracy: 0.7893\n",
      "Epoch 33/300\n",
      "8/8 [==============================] - 0s 6ms/step - loss: 0.6019 - accuracy: 0.7810\n",
      "Epoch 34/300\n",
      "8/8 [==============================] - 0s 6ms/step - loss: 0.5919 - accuracy: 0.7975\n",
      "Epoch 35/300\n",
      "8/8 [==============================] - 0s 7ms/step - loss: 0.5878 - accuracy: 0.7769\n",
      "Epoch 36/300\n",
      "8/8 [==============================] - 0s 6ms/step - loss: 0.6122 - accuracy: 0.7727\n",
      "Epoch 37/300\n",
      "8/8 [==============================] - 0s 6ms/step - loss: 0.5918 - accuracy: 0.7893\n",
      "Epoch 38/300\n",
      "8/8 [==============================] - 0s 6ms/step - loss: 0.5770 - accuracy: 0.7851\n",
      "Epoch 39/300\n",
      "8/8 [==============================] - 0s 6ms/step - loss: 0.5722 - accuracy: 0.8017\n",
      "Epoch 40/300\n",
      "8/8 [==============================] - 0s 6ms/step - loss: 0.5764 - accuracy: 0.7727\n",
      "Epoch 41/300\n",
      "8/8 [==============================] - 0s 7ms/step - loss: 0.5653 - accuracy: 0.7893\n",
      "Epoch 42/300\n",
      "8/8 [==============================] - 0s 6ms/step - loss: 0.5905 - accuracy: 0.7727\n",
      "Epoch 43/300\n",
      "8/8 [==============================] - 0s 7ms/step - loss: 0.5677 - accuracy: 0.8017\n",
      "Epoch 44/300\n",
      "8/8 [==============================] - 0s 6ms/step - loss: 0.5536 - accuracy: 0.7893\n",
      "Epoch 45/300\n",
      "8/8 [==============================] - 0s 6ms/step - loss: 0.5607 - accuracy: 0.8017\n",
      "Epoch 46/300\n",
      "8/8 [==============================] - 0s 6ms/step - loss: 0.5508 - accuracy: 0.8099\n",
      "Epoch 47/300\n",
      "8/8 [==============================] - 0s 6ms/step - loss: 0.5537 - accuracy: 0.7934\n",
      "Epoch 48/300\n",
      "8/8 [==============================] - 0s 7ms/step - loss: 0.5435 - accuracy: 0.8058\n",
      "Epoch 49/300\n",
      "8/8 [==============================] - 0s 6ms/step - loss: 0.5479 - accuracy: 0.7975\n",
      "Epoch 50/300\n",
      "8/8 [==============================] - 0s 6ms/step - loss: 0.5376 - accuracy: 0.8182\n",
      "Epoch 51/300\n",
      "8/8 [==============================] - 0s 6ms/step - loss: 0.5403 - accuracy: 0.8058\n",
      "Epoch 52/300\n",
      "8/8 [==============================] - 0s 6ms/step - loss: 0.5461 - accuracy: 0.8058\n",
      "Epoch 53/300\n",
      "8/8 [==============================] - 0s 6ms/step - loss: 0.5439 - accuracy: 0.7893\n",
      "Epoch 54/300\n",
      "8/8 [==============================] - 0s 6ms/step - loss: 0.5427 - accuracy: 0.7851\n",
      "Epoch 55/300\n",
      "8/8 [==============================] - 0s 6ms/step - loss: 0.5619 - accuracy: 0.7975\n",
      "Epoch 56/300\n",
      "8/8 [==============================] - 0s 6ms/step - loss: 0.5364 - accuracy: 0.7893\n",
      "Epoch 57/300\n",
      "8/8 [==============================] - 0s 6ms/step - loss: 0.5292 - accuracy: 0.7769\n",
      "Epoch 58/300\n",
      "8/8 [==============================] - 0s 6ms/step - loss: 0.5478 - accuracy: 0.7810\n",
      "Epoch 59/300\n",
      "8/8 [==============================] - 0s 6ms/step - loss: 0.5190 - accuracy: 0.8140\n",
      "Epoch 60/300\n",
      "8/8 [==============================] - 0s 6ms/step - loss: 0.5090 - accuracy: 0.8182\n",
      "Epoch 61/300\n",
      "8/8 [==============================] - 0s 7ms/step - loss: 0.5175 - accuracy: 0.8017\n",
      "Epoch 62/300\n",
      "8/8 [==============================] - 0s 6ms/step - loss: 0.5179 - accuracy: 0.8017\n",
      "Epoch 63/300\n",
      "8/8 [==============================] - 0s 6ms/step - loss: 0.5034 - accuracy: 0.8017\n",
      "Epoch 64/300\n",
      "8/8 [==============================] - 0s 6ms/step - loss: 0.5278 - accuracy: 0.8058\n",
      "Epoch 65/300\n",
      "8/8 [==============================] - 0s 6ms/step - loss: 0.5053 - accuracy: 0.8017\n",
      "Epoch 66/300\n",
      "8/8 [==============================] - 0s 6ms/step - loss: 0.5403 - accuracy: 0.8099\n",
      "Epoch 67/300\n",
      "8/8 [==============================] - 0s 6ms/step - loss: 0.5619 - accuracy: 0.7851\n",
      "Epoch 68/300\n",
      "8/8 [==============================] - 0s 6ms/step - loss: 0.5060 - accuracy: 0.8223\n",
      "Epoch 69/300\n",
      "8/8 [==============================] - 0s 6ms/step - loss: 0.5148 - accuracy: 0.8223\n",
      "Epoch 70/300\n",
      "8/8 [==============================] - 0s 7ms/step - loss: 0.4968 - accuracy: 0.8223\n",
      "Epoch 71/300\n",
      "8/8 [==============================] - 0s 6ms/step - loss: 0.5125 - accuracy: 0.7893\n",
      "Epoch 72/300\n",
      "8/8 [==============================] - 0s 6ms/step - loss: 0.5306 - accuracy: 0.8058\n",
      "Epoch 73/300\n",
      "8/8 [==============================] - 0s 5ms/step - loss: 0.5015 - accuracy: 0.8140\n",
      "Epoch 74/300\n",
      "8/8 [==============================] - 0s 5ms/step - loss: 0.4915 - accuracy: 0.8058\n",
      "Epoch 75/300\n",
      "8/8 [==============================] - 0s 5ms/step - loss: 0.4809 - accuracy: 0.8306\n",
      "Epoch 76/300\n",
      "8/8 [==============================] - 0s 5ms/step - loss: 0.4832 - accuracy: 0.8347\n",
      "Epoch 77/300\n",
      "8/8 [==============================] - 0s 5ms/step - loss: 0.4907 - accuracy: 0.8099\n",
      "Epoch 78/300\n",
      "8/8 [==============================] - 0s 5ms/step - loss: 0.4788 - accuracy: 0.8182\n",
      "Epoch 79/300\n",
      "8/8 [==============================] - 0s 5ms/step - loss: 0.4817 - accuracy: 0.8140\n",
      "Epoch 80/300\n",
      "8/8 [==============================] - 0s 6ms/step - loss: 0.5006 - accuracy: 0.8058\n",
      "Epoch 81/300\n",
      "8/8 [==============================] - 0s 6ms/step - loss: 0.4802 - accuracy: 0.8347\n",
      "Epoch 82/300\n",
      "8/8 [==============================] - 0s 7ms/step - loss: 0.4844 - accuracy: 0.8306\n",
      "Epoch 83/300\n",
      "8/8 [==============================] - 0s 7ms/step - loss: 0.4778 - accuracy: 0.8140\n",
      "Epoch 84/300\n",
      "8/8 [==============================] - 0s 7ms/step - loss: 0.4633 - accuracy: 0.8264\n",
      "Epoch 85/300\n",
      "8/8 [==============================] - 0s 6ms/step - loss: 0.4760 - accuracy: 0.8182\n",
      "Epoch 86/300\n",
      "8/8 [==============================] - 0s 6ms/step - loss: 0.4826 - accuracy: 0.8223\n",
      "Epoch 87/300\n",
      "8/8 [==============================] - 0s 6ms/step - loss: 0.4644 - accuracy: 0.8264\n",
      "Epoch 88/300\n",
      "8/8 [==============================] - 0s 6ms/step - loss: 0.4616 - accuracy: 0.8306\n",
      "Epoch 89/300\n",
      "8/8 [==============================] - 0s 6ms/step - loss: 0.5025 - accuracy: 0.7851\n",
      "Epoch 90/300\n",
      "8/8 [==============================] - 0s 6ms/step - loss: 0.4808 - accuracy: 0.8223\n",
      "Epoch 91/300\n",
      "8/8 [==============================] - 0s 6ms/step - loss: 0.4831 - accuracy: 0.8223\n",
      "Epoch 92/300\n",
      "8/8 [==============================] - 0s 7ms/step - loss: 0.4674 - accuracy: 0.8140\n",
      "Epoch 93/300\n",
      "8/8 [==============================] - 0s 6ms/step - loss: 0.4585 - accuracy: 0.8182\n",
      "Epoch 94/300\n",
      "8/8 [==============================] - 0s 7ms/step - loss: 0.4589 - accuracy: 0.8099\n",
      "Epoch 95/300\n",
      "8/8 [==============================] - 0s 6ms/step - loss: 0.4621 - accuracy: 0.8388\n",
      "Epoch 96/300\n",
      "8/8 [==============================] - 0s 6ms/step - loss: 0.4571 - accuracy: 0.8388\n",
      "Epoch 97/300\n",
      "8/8 [==============================] - 0s 7ms/step - loss: 0.4539 - accuracy: 0.8140\n",
      "Epoch 98/300\n",
      "8/8 [==============================] - 0s 6ms/step - loss: 0.4449 - accuracy: 0.8347\n",
      "Epoch 99/300\n",
      "8/8 [==============================] - 0s 6ms/step - loss: 0.4383 - accuracy: 0.8388\n",
      "Epoch 100/300\n",
      "8/8 [==============================] - 0s 7ms/step - loss: 0.4389 - accuracy: 0.8347\n",
      "Epoch 101/300\n",
      "8/8 [==============================] - 0s 6ms/step - loss: 0.4411 - accuracy: 0.8264\n",
      "Epoch 102/300\n",
      "8/8 [==============================] - 0s 6ms/step - loss: 0.4444 - accuracy: 0.8140\n",
      "Epoch 103/300\n",
      "8/8 [==============================] - 0s 6ms/step - loss: 0.4493 - accuracy: 0.8182\n",
      "Epoch 104/300\n",
      "8/8 [==============================] - 0s 5ms/step - loss: 0.4356 - accuracy: 0.8388\n",
      "Epoch 105/300\n",
      "8/8 [==============================] - 0s 6ms/step - loss: 0.4381 - accuracy: 0.8347\n",
      "Epoch 106/300\n",
      "8/8 [==============================] - 0s 5ms/step - loss: 0.4331 - accuracy: 0.8223\n",
      "Epoch 107/300\n",
      "8/8 [==============================] - 0s 6ms/step - loss: 0.4278 - accuracy: 0.8388\n",
      "Epoch 108/300\n",
      "8/8 [==============================] - 0s 6ms/step - loss: 0.4307 - accuracy: 0.8430\n",
      "Epoch 109/300\n",
      "8/8 [==============================] - 0s 7ms/step - loss: 0.4255 - accuracy: 0.8347\n",
      "Epoch 110/300\n",
      "8/8 [==============================] - 0s 6ms/step - loss: 0.4317 - accuracy: 0.8430\n",
      "Epoch 111/300\n",
      "8/8 [==============================] - 0s 5ms/step - loss: 0.4286 - accuracy: 0.8223\n",
      "Epoch 112/300\n",
      "8/8 [==============================] - 0s 6ms/step - loss: 0.4543 - accuracy: 0.8099\n",
      "Epoch 113/300\n",
      "8/8 [==============================] - 0s 6ms/step - loss: 0.4756 - accuracy: 0.8182\n",
      "Epoch 114/300\n",
      "8/8 [==============================] - 0s 6ms/step - loss: 0.4876 - accuracy: 0.7934\n",
      "Epoch 115/300\n",
      "8/8 [==============================] - 0s 6ms/step - loss: 0.4216 - accuracy: 0.8430\n",
      "Epoch 116/300\n",
      "8/8 [==============================] - 0s 6ms/step - loss: 0.4264 - accuracy: 0.8223\n",
      "Epoch 117/300\n",
      "8/8 [==============================] - 0s 5ms/step - loss: 0.4233 - accuracy: 0.8388\n",
      "Epoch 118/300\n",
      "8/8 [==============================] - 0s 6ms/step - loss: 0.4086 - accuracy: 0.8306\n",
      "Epoch 119/300\n",
      "8/8 [==============================] - 0s 6ms/step - loss: 0.4146 - accuracy: 0.8347\n",
      "Epoch 120/300\n",
      "8/8 [==============================] - 0s 6ms/step - loss: 0.4079 - accuracy: 0.8471\n",
      "Epoch 121/300\n",
      "8/8 [==============================] - 0s 6ms/step - loss: 0.4013 - accuracy: 0.8430\n",
      "Epoch 122/300\n",
      "8/8 [==============================] - 0s 6ms/step - loss: 0.4018 - accuracy: 0.8471\n",
      "Epoch 123/300\n",
      "8/8 [==============================] - 0s 6ms/step - loss: 0.4045 - accuracy: 0.8471\n",
      "Epoch 124/300\n",
      "8/8 [==============================] - 0s 6ms/step - loss: 0.3974 - accuracy: 0.8512\n",
      "Epoch 125/300\n",
      "8/8 [==============================] - 0s 5ms/step - loss: 0.4029 - accuracy: 0.8430\n",
      "Epoch 126/300\n",
      "8/8 [==============================] - 0s 6ms/step - loss: 0.4074 - accuracy: 0.8347\n",
      "Epoch 127/300\n",
      "8/8 [==============================] - 0s 6ms/step - loss: 0.3983 - accuracy: 0.8471\n",
      "Epoch 128/300\n",
      "8/8 [==============================] - 0s 5ms/step - loss: 0.3987 - accuracy: 0.8140\n",
      "Epoch 129/300\n",
      "8/8 [==============================] - 0s 7ms/step - loss: 0.3977 - accuracy: 0.8223\n",
      "Epoch 130/300\n",
      "8/8 [==============================] - 0s 6ms/step - loss: 0.3829 - accuracy: 0.8471\n",
      "Epoch 131/300\n",
      "8/8 [==============================] - 0s 6ms/step - loss: 0.3944 - accuracy: 0.8430\n",
      "Epoch 132/300\n",
      "8/8 [==============================] - 0s 6ms/step - loss: 0.3903 - accuracy: 0.8306\n",
      "Epoch 133/300\n",
      "8/8 [==============================] - 0s 7ms/step - loss: 0.3879 - accuracy: 0.8430\n",
      "Epoch 134/300\n",
      "8/8 [==============================] - 0s 5ms/step - loss: 0.3881 - accuracy: 0.8223\n",
      "Epoch 135/300\n",
      "8/8 [==============================] - 0s 6ms/step - loss: 0.4087 - accuracy: 0.8223\n",
      "Epoch 136/300\n",
      "8/8 [==============================] - 0s 5ms/step - loss: 0.4076 - accuracy: 0.8182\n",
      "Epoch 137/300\n",
      "8/8 [==============================] - 0s 5ms/step - loss: 0.4001 - accuracy: 0.8140\n",
      "Epoch 138/300\n",
      "8/8 [==============================] - 0s 6ms/step - loss: 0.3970 - accuracy: 0.8058\n",
      "Epoch 139/300\n",
      "8/8 [==============================] - 0s 6ms/step - loss: 0.3676 - accuracy: 0.8554\n",
      "Epoch 140/300\n",
      "8/8 [==============================] - 0s 6ms/step - loss: 0.3741 - accuracy: 0.8388\n",
      "Epoch 141/300\n",
      "8/8 [==============================] - 0s 6ms/step - loss: 0.3756 - accuracy: 0.8430\n",
      "Epoch 142/300\n",
      "8/8 [==============================] - 0s 6ms/step - loss: 0.3969 - accuracy: 0.8182\n",
      "Epoch 143/300\n",
      "8/8 [==============================] - 0s 6ms/step - loss: 0.3640 - accuracy: 0.8512\n",
      "Epoch 144/300\n",
      "8/8 [==============================] - 0s 7ms/step - loss: 0.3898 - accuracy: 0.8017\n",
      "Epoch 145/300\n",
      "8/8 [==============================] - 0s 6ms/step - loss: 0.3888 - accuracy: 0.8223\n",
      "Epoch 146/300\n",
      "8/8 [==============================] - 0s 6ms/step - loss: 0.4284 - accuracy: 0.7851\n",
      "Epoch 147/300\n",
      "8/8 [==============================] - 0s 6ms/step - loss: 0.4256 - accuracy: 0.8017\n",
      "Epoch 148/300\n",
      "8/8 [==============================] - 0s 6ms/step - loss: 0.4411 - accuracy: 0.8017\n",
      "Epoch 149/300\n",
      "8/8 [==============================] - 0s 6ms/step - loss: 0.3839 - accuracy: 0.8306\n",
      "Epoch 150/300\n",
      "8/8 [==============================] - 0s 6ms/step - loss: 0.3711 - accuracy: 0.8430\n",
      "Epoch 151/300\n",
      "8/8 [==============================] - 0s 6ms/step - loss: 0.3602 - accuracy: 0.8554\n",
      "Epoch 152/300\n",
      "8/8 [==============================] - 0s 6ms/step - loss: 0.3703 - accuracy: 0.8430\n",
      "Epoch 153/300\n",
      "8/8 [==============================] - 0s 6ms/step - loss: 0.3692 - accuracy: 0.8347\n",
      "Epoch 154/300\n",
      "8/8 [==============================] - 0s 6ms/step - loss: 0.3920 - accuracy: 0.8140\n",
      "Epoch 155/300\n",
      "8/8 [==============================] - 0s 6ms/step - loss: 0.3731 - accuracy: 0.8471\n",
      "Epoch 156/300\n",
      "8/8 [==============================] - 0s 6ms/step - loss: 0.3846 - accuracy: 0.8388\n",
      "Epoch 157/300\n",
      "8/8 [==============================] - 0s 6ms/step - loss: 0.3737 - accuracy: 0.8264\n",
      "Epoch 158/300\n",
      "8/8 [==============================] - 0s 6ms/step - loss: 0.3676 - accuracy: 0.8388\n",
      "Epoch 159/300\n",
      "8/8 [==============================] - 0s 6ms/step - loss: 0.3911 - accuracy: 0.8182\n",
      "Epoch 160/300\n",
      "8/8 [==============================] - 0s 6ms/step - loss: 0.3988 - accuracy: 0.8182\n",
      "Epoch 161/300\n",
      "8/8 [==============================] - 0s 5ms/step - loss: 0.4012 - accuracy: 0.8223\n",
      "Epoch 162/300\n",
      "8/8 [==============================] - 0s 5ms/step - loss: 0.4084 - accuracy: 0.8347\n",
      "Epoch 163/300\n",
      "8/8 [==============================] - 0s 5ms/step - loss: 0.3844 - accuracy: 0.8306\n",
      "Epoch 164/300\n",
      "8/8 [==============================] - 0s 5ms/step - loss: 0.3855 - accuracy: 0.8223\n",
      "Epoch 165/300\n",
      "8/8 [==============================] - 0s 5ms/step - loss: 0.3822 - accuracy: 0.8140\n",
      "Epoch 166/300\n",
      "8/8 [==============================] - 0s 5ms/step - loss: 0.3881 - accuracy: 0.7975\n",
      "Epoch 167/300\n"
     ]
    },
    {
     "name": "stdout",
     "output_type": "stream",
     "text": [
      "8/8 [==============================] - 0s 5ms/step - loss: 0.3818 - accuracy: 0.8347\n",
      "Epoch 168/300\n",
      "8/8 [==============================] - 0s 6ms/step - loss: 0.3613 - accuracy: 0.8388\n",
      "Epoch 169/300\n",
      "8/8 [==============================] - 0s 6ms/step - loss: 0.3609 - accuracy: 0.8388\n",
      "Epoch 170/300\n",
      "8/8 [==============================] - 0s 4ms/step - loss: 0.3597 - accuracy: 0.8554\n",
      "Epoch 171/300\n",
      "8/8 [==============================] - 0s 6ms/step - loss: 0.3621 - accuracy: 0.8471\n",
      "Epoch 172/300\n",
      "8/8 [==============================] - 0s 7ms/step - loss: 0.3732 - accuracy: 0.8388\n",
      "Epoch 173/300\n",
      "8/8 [==============================] - 0s 8ms/step - loss: 0.3567 - accuracy: 0.8512\n",
      "Epoch 174/300\n",
      "8/8 [==============================] - 0s 7ms/step - loss: 0.3735 - accuracy: 0.8264\n",
      "Epoch 175/300\n",
      "8/8 [==============================] - 0s 7ms/step - loss: 0.4039 - accuracy: 0.7975\n",
      "Epoch 176/300\n",
      "8/8 [==============================] - 0s 7ms/step - loss: 0.3818 - accuracy: 0.8347\n",
      "Epoch 177/300\n",
      "8/8 [==============================] - 0s 6ms/step - loss: 0.3779 - accuracy: 0.8264\n",
      "Epoch 178/300\n",
      "8/8 [==============================] - 0s 6ms/step - loss: 0.3800 - accuracy: 0.8099\n",
      "Epoch 179/300\n",
      "8/8 [==============================] - 0s 6ms/step - loss: 0.3937 - accuracy: 0.8182\n",
      "Epoch 180/300\n",
      "8/8 [==============================] - 0s 7ms/step - loss: 0.3600 - accuracy: 0.8554\n",
      "Epoch 181/300\n",
      "8/8 [==============================] - 0s 6ms/step - loss: 0.3608 - accuracy: 0.8512\n",
      "Epoch 182/300\n",
      "8/8 [==============================] - 0s 7ms/step - loss: 0.3586 - accuracy: 0.8512\n",
      "Epoch 183/300\n",
      "8/8 [==============================] - 0s 7ms/step - loss: 0.3754 - accuracy: 0.8264\n",
      "Epoch 184/300\n",
      "8/8 [==============================] - 0s 7ms/step - loss: 0.3909 - accuracy: 0.8223\n",
      "Epoch 185/300\n",
      "8/8 [==============================] - 0s 7ms/step - loss: 0.3617 - accuracy: 0.8347\n",
      "Epoch 186/300\n",
      "8/8 [==============================] - 0s 7ms/step - loss: 0.3620 - accuracy: 0.8636\n",
      "Epoch 187/300\n",
      "8/8 [==============================] - 0s 8ms/step - loss: 0.3680 - accuracy: 0.8306\n",
      "Epoch 188/300\n",
      "8/8 [==============================] - 0s 7ms/step - loss: 0.3607 - accuracy: 0.8388\n",
      "Epoch 189/300\n",
      "8/8 [==============================] - 0s 6ms/step - loss: 0.3825 - accuracy: 0.8347\n",
      "Epoch 190/300\n",
      "8/8 [==============================] - 0s 6ms/step - loss: 0.3833 - accuracy: 0.8140\n",
      "Epoch 191/300\n",
      "8/8 [==============================] - 0s 6ms/step - loss: 0.3751 - accuracy: 0.8264\n",
      "Epoch 192/300\n",
      "8/8 [==============================] - 0s 6ms/step - loss: 0.3653 - accuracy: 0.8223\n",
      "Epoch 193/300\n",
      "8/8 [==============================] - 0s 6ms/step - loss: 0.3615 - accuracy: 0.8554\n",
      "Epoch 194/300\n",
      "8/8 [==============================] - 0s 6ms/step - loss: 0.3615 - accuracy: 0.8347\n",
      "Epoch 195/300\n",
      "8/8 [==============================] - 0s 6ms/step - loss: 0.3936 - accuracy: 0.8264\n",
      "Epoch 196/300\n",
      "8/8 [==============================] - 0s 7ms/step - loss: 0.3605 - accuracy: 0.8223\n",
      "Epoch 197/300\n",
      "8/8 [==============================] - 0s 6ms/step - loss: 0.3795 - accuracy: 0.8306\n",
      "Epoch 198/300\n",
      "8/8 [==============================] - 0s 7ms/step - loss: 0.3503 - accuracy: 0.8471\n",
      "Epoch 199/300\n",
      "8/8 [==============================] - 0s 5ms/step - loss: 0.3946 - accuracy: 0.8223\n",
      "Epoch 200/300\n",
      "8/8 [==============================] - 0s 6ms/step - loss: 0.3669 - accuracy: 0.8471\n",
      "Epoch 201/300\n",
      "8/8 [==============================] - 0s 6ms/step - loss: 0.3799 - accuracy: 0.8306\n",
      "Epoch 202/300\n",
      "8/8 [==============================] - 0s 6ms/step - loss: 0.3603 - accuracy: 0.8595\n",
      "Epoch 203/300\n",
      "8/8 [==============================] - 0s 6ms/step - loss: 0.3676 - accuracy: 0.8306\n",
      "Epoch 204/300\n",
      "8/8 [==============================] - 0s 6ms/step - loss: 0.3732 - accuracy: 0.8306\n",
      "Epoch 205/300\n",
      "8/8 [==============================] - 0s 6ms/step - loss: 0.3752 - accuracy: 0.8430\n",
      "Epoch 206/300\n",
      "8/8 [==============================] - 0s 6ms/step - loss: 0.3664 - accuracy: 0.8347\n",
      "Epoch 207/300\n",
      "8/8 [==============================] - 0s 6ms/step - loss: 0.3596 - accuracy: 0.8471\n",
      "Epoch 208/300\n",
      "8/8 [==============================] - 0s 6ms/step - loss: 0.3599 - accuracy: 0.8471\n",
      "Epoch 209/300\n",
      "8/8 [==============================] - 0s 8ms/step - loss: 0.3760 - accuracy: 0.8306\n",
      "Epoch 210/300\n",
      "8/8 [==============================] - 0s 6ms/step - loss: 0.3546 - accuracy: 0.8347\n",
      "Epoch 211/300\n",
      "8/8 [==============================] - 0s 6ms/step - loss: 0.3537 - accuracy: 0.8471\n",
      "Epoch 212/300\n",
      "8/8 [==============================] - 0s 7ms/step - loss: 0.3923 - accuracy: 0.8140\n",
      "Epoch 213/300\n",
      "8/8 [==============================] - 0s 7ms/step - loss: 0.3879 - accuracy: 0.8388\n",
      "Epoch 214/300\n",
      "8/8 [==============================] - 0s 6ms/step - loss: 0.3952 - accuracy: 0.8058\n",
      "Epoch 215/300\n",
      "8/8 [==============================] - 0s 7ms/step - loss: 0.3722 - accuracy: 0.8430\n",
      "Epoch 216/300\n",
      "8/8 [==============================] - 0s 6ms/step - loss: 0.3523 - accuracy: 0.8512\n",
      "Epoch 217/300\n",
      "8/8 [==============================] - 0s 6ms/step - loss: 0.3563 - accuracy: 0.8512\n",
      "Epoch 218/300\n",
      "8/8 [==============================] - 0s 6ms/step - loss: 0.3555 - accuracy: 0.8512\n",
      "Epoch 219/300\n",
      "8/8 [==============================] - 0s 7ms/step - loss: 0.3559 - accuracy: 0.8595\n",
      "Epoch 220/300\n",
      "8/8 [==============================] - 0s 7ms/step - loss: 0.3603 - accuracy: 0.8388\n",
      "Epoch 221/300\n",
      "8/8 [==============================] - 0s 7ms/step - loss: 0.3597 - accuracy: 0.8430\n",
      "Epoch 222/300\n",
      "8/8 [==============================] - 0s 6ms/step - loss: 0.3576 - accuracy: 0.8388\n",
      "Epoch 223/300\n",
      "8/8 [==============================] - 0s 7ms/step - loss: 0.3651 - accuracy: 0.8471\n",
      "Epoch 224/300\n",
      "8/8 [==============================] - 0s 6ms/step - loss: 0.3738 - accuracy: 0.8306\n",
      "Epoch 225/300\n",
      "8/8 [==============================] - 0s 7ms/step - loss: 0.3606 - accuracy: 0.8430\n",
      "Epoch 226/300\n",
      "8/8 [==============================] - 0s 6ms/step - loss: 0.3533 - accuracy: 0.8554\n",
      "Epoch 227/300\n",
      "8/8 [==============================] - 0s 6ms/step - loss: 0.3740 - accuracy: 0.8388\n",
      "Epoch 228/300\n",
      "8/8 [==============================] - 0s 6ms/step - loss: 0.3942 - accuracy: 0.8264\n",
      "Epoch 229/300\n",
      "8/8 [==============================] - 0s 6ms/step - loss: 0.3561 - accuracy: 0.8471\n",
      "Epoch 230/300\n",
      "8/8 [==============================] - 0s 6ms/step - loss: 0.3515 - accuracy: 0.8471\n",
      "Epoch 231/300\n",
      "8/8 [==============================] - 0s 6ms/step - loss: 0.4024 - accuracy: 0.8058\n",
      "Epoch 232/300\n",
      "8/8 [==============================] - 0s 6ms/step - loss: 0.4235 - accuracy: 0.8099\n",
      "Epoch 233/300\n",
      "8/8 [==============================] - 0s 6ms/step - loss: 0.3822 - accuracy: 0.8264\n",
      "Epoch 234/300\n",
      "8/8 [==============================] - 0s 6ms/step - loss: 0.3622 - accuracy: 0.8430\n",
      "Epoch 235/300\n",
      "8/8 [==============================] - 0s 7ms/step - loss: 0.3608 - accuracy: 0.8430\n",
      "Epoch 236/300\n",
      "8/8 [==============================] - 0s 7ms/step - loss: 0.3791 - accuracy: 0.8388\n",
      "Epoch 237/300\n",
      "8/8 [==============================] - 0s 5ms/step - loss: 0.3662 - accuracy: 0.8512\n",
      "Epoch 238/300\n",
      "8/8 [==============================] - 0s 6ms/step - loss: 0.3817 - accuracy: 0.8182\n",
      "Epoch 239/300\n",
      "8/8 [==============================] - 0s 7ms/step - loss: 0.3653 - accuracy: 0.8471\n",
      "Epoch 240/300\n",
      "8/8 [==============================] - 0s 7ms/step - loss: 0.4039 - accuracy: 0.8058\n",
      "Epoch 241/300\n",
      "8/8 [==============================] - 0s 7ms/step - loss: 0.4046 - accuracy: 0.8058\n",
      "Epoch 242/300\n",
      "8/8 [==============================] - 0s 7ms/step - loss: 0.3790 - accuracy: 0.8264\n",
      "Epoch 243/300\n",
      "8/8 [==============================] - 0s 6ms/step - loss: 0.3645 - accuracy: 0.8636\n",
      "Epoch 244/300\n",
      "8/8 [==============================] - 0s 6ms/step - loss: 0.3718 - accuracy: 0.8430\n",
      "Epoch 245/300\n",
      "8/8 [==============================] - 0s 6ms/step - loss: 0.3733 - accuracy: 0.8306\n",
      "Epoch 246/300\n",
      "8/8 [==============================] - 0s 6ms/step - loss: 0.4225 - accuracy: 0.8017\n",
      "Epoch 247/300\n",
      "8/8 [==============================] - 0s 6ms/step - loss: 0.3710 - accuracy: 0.8264\n",
      "Epoch 248/300\n",
      "8/8 [==============================] - 0s 7ms/step - loss: 0.3602 - accuracy: 0.8512\n",
      "Epoch 249/300\n",
      "8/8 [==============================] - 0s 6ms/step - loss: 0.3839 - accuracy: 0.8430\n",
      "Epoch 250/300\n",
      "8/8 [==============================] - 0s 6ms/step - loss: 0.3599 - accuracy: 0.8512\n",
      "Epoch 251/300\n",
      "8/8 [==============================] - 0s 8ms/step - loss: 0.3576 - accuracy: 0.8388\n",
      "Epoch 252/300\n",
      "8/8 [==============================] - 0s 8ms/step - loss: 0.3851 - accuracy: 0.8306\n",
      "Epoch 253/300\n",
      "8/8 [==============================] - 0s 7ms/step - loss: 0.3726 - accuracy: 0.8264\n",
      "Epoch 254/300\n",
      "8/8 [==============================] - 0s 7ms/step - loss: 0.4095 - accuracy: 0.7934\n",
      "Epoch 255/300\n",
      "8/8 [==============================] - 0s 6ms/step - loss: 0.3617 - accuracy: 0.8512\n",
      "Epoch 256/300\n",
      "8/8 [==============================] - 0s 7ms/step - loss: 0.3613 - accuracy: 0.8471\n",
      "Epoch 257/300\n",
      "8/8 [==============================] - 0s 7ms/step - loss: 0.3602 - accuracy: 0.8471\n",
      "Epoch 258/300\n",
      "8/8 [==============================] - 0s 7ms/step - loss: 0.4164 - accuracy: 0.8017\n",
      "Epoch 259/300\n",
      "8/8 [==============================] - 0s 7ms/step - loss: 0.3725 - accuracy: 0.8347\n",
      "Epoch 260/300\n",
      "8/8 [==============================] - 0s 6ms/step - loss: 0.3627 - accuracy: 0.8430\n",
      "Epoch 261/300\n",
      "8/8 [==============================] - 0s 7ms/step - loss: 0.3743 - accuracy: 0.8264\n",
      "Epoch 262/300\n",
      "8/8 [==============================] - 0s 6ms/step - loss: 0.3786 - accuracy: 0.8306\n",
      "Epoch 263/300\n",
      "8/8 [==============================] - 0s 6ms/step - loss: 0.3605 - accuracy: 0.8471\n",
      "Epoch 264/300\n",
      "8/8 [==============================] - 0s 5ms/step - loss: 0.3601 - accuracy: 0.8430\n",
      "Epoch 265/300\n",
      "8/8 [==============================] - 0s 5ms/step - loss: 0.3830 - accuracy: 0.8182\n",
      "Epoch 266/300\n",
      "8/8 [==============================] - 0s 7ms/step - loss: 0.3602 - accuracy: 0.8388\n",
      "Epoch 267/300\n",
      "8/8 [==============================] - 0s 7ms/step - loss: 0.3496 - accuracy: 0.8471\n",
      "Epoch 268/300\n",
      "8/8 [==============================] - 0s 6ms/step - loss: 0.3554 - accuracy: 0.8388\n",
      "Epoch 269/300\n",
      "8/8 [==============================] - 0s 7ms/step - loss: 0.3569 - accuracy: 0.8471\n",
      "Epoch 270/300\n",
      "8/8 [==============================] - 0s 7ms/step - loss: 0.3684 - accuracy: 0.8264\n",
      "Epoch 271/300\n",
      "8/8 [==============================] - 0s 7ms/step - loss: 0.3526 - accuracy: 0.8512\n",
      "Epoch 272/300\n",
      "8/8 [==============================] - 0s 7ms/step - loss: 0.3500 - accuracy: 0.8471\n",
      "Epoch 273/300\n",
      "8/8 [==============================] - 0s 7ms/step - loss: 0.3552 - accuracy: 0.8471\n",
      "Epoch 274/300\n",
      "8/8 [==============================] - 0s 7ms/step - loss: 0.3521 - accuracy: 0.8595\n",
      "Epoch 275/300\n",
      "8/8 [==============================] - 0s 7ms/step - loss: 0.3906 - accuracy: 0.8388\n",
      "Epoch 276/300\n",
      "8/8 [==============================] - 0s 6ms/step - loss: 0.3846 - accuracy: 0.8140\n",
      "Epoch 277/300\n",
      "8/8 [==============================] - 0s 7ms/step - loss: 0.3849 - accuracy: 0.8223\n",
      "Epoch 278/300\n",
      "8/8 [==============================] - 0s 6ms/step - loss: 0.3723 - accuracy: 0.8388\n",
      "Epoch 279/300\n",
      "8/8 [==============================] - 0s 5ms/step - loss: 0.3511 - accuracy: 0.8471\n",
      "Epoch 280/300\n",
      "8/8 [==============================] - 0s 6ms/step - loss: 0.3612 - accuracy: 0.8595\n",
      "Epoch 281/300\n",
      "8/8 [==============================] - 0s 6ms/step - loss: 0.3683 - accuracy: 0.8388\n",
      "Epoch 282/300\n",
      "8/8 [==============================] - 0s 6ms/step - loss: 0.3662 - accuracy: 0.8595\n",
      "Epoch 283/300\n",
      "8/8 [==============================] - 0s 7ms/step - loss: 0.3541 - accuracy: 0.8347\n",
      "Epoch 284/300\n",
      "8/8 [==============================] - 0s 6ms/step - loss: 0.3600 - accuracy: 0.8388\n",
      "Epoch 285/300\n",
      "8/8 [==============================] - 0s 7ms/step - loss: 0.3763 - accuracy: 0.8182\n",
      "Epoch 286/300\n",
      "8/8 [==============================] - 0s 6ms/step - loss: 0.3789 - accuracy: 0.8388\n",
      "Epoch 287/300\n",
      "8/8 [==============================] - 0s 6ms/step - loss: 0.3608 - accuracy: 0.8430\n",
      "Epoch 288/300\n",
      "8/8 [==============================] - 0s 7ms/step - loss: 0.3968 - accuracy: 0.8099\n",
      "Epoch 289/300\n",
      "8/8 [==============================] - 0s 6ms/step - loss: 0.3840 - accuracy: 0.8182\n",
      "Epoch 290/300\n",
      "8/8 [==============================] - 0s 6ms/step - loss: 0.3754 - accuracy: 0.8388\n",
      "Epoch 291/300\n",
      "8/8 [==============================] - 0s 7ms/step - loss: 0.3678 - accuracy: 0.8306\n",
      "Epoch 292/300\n",
      "8/8 [==============================] - 0s 7ms/step - loss: 0.3616 - accuracy: 0.8306\n",
      "Epoch 293/300\n",
      "8/8 [==============================] - 0s 7ms/step - loss: 0.3576 - accuracy: 0.8554\n",
      "Epoch 294/300\n",
      "8/8 [==============================] - 0s 7ms/step - loss: 0.3596 - accuracy: 0.8347\n",
      "Epoch 295/300\n",
      "8/8 [==============================] - 0s 6ms/step - loss: 0.3515 - accuracy: 0.8512\n",
      "Epoch 296/300\n",
      "8/8 [==============================] - 0s 6ms/step - loss: 0.3507 - accuracy: 0.8388\n",
      "Epoch 297/300\n",
      "8/8 [==============================] - 0s 6ms/step - loss: 0.3549 - accuracy: 0.8430\n",
      "Epoch 298/300\n",
      "8/8 [==============================] - 0s 6ms/step - loss: 0.3523 - accuracy: 0.8595\n",
      "Epoch 299/300\n",
      "8/8 [==============================] - 0s 7ms/step - loss: 0.3898 - accuracy: 0.8099\n",
      "Epoch 300/300\n",
      "8/8 [==============================] - 0s 6ms/step - loss: 0.3611 - accuracy: 0.8471\n"
     ]
    },
    {
     "data": {
      "text/plain": [
       "<keras.callbacks.History at 0x7febb4190460>"
      ]
     },
     "execution_count": 58,
     "metadata": {},
     "output_type": "execute_result"
    }
   ],
   "source": [
    "model.fit(X_train,Y_train,epochs=300)"
   ]
  },
  {
   "cell_type": "code",
   "execution_count": 59,
   "id": "994bb3b5",
   "metadata": {},
   "outputs": [
    {
     "name": "stdout",
     "output_type": "stream",
     "text": [
      "2/2 [==============================] - 0s 6ms/step\n"
     ]
    }
   ],
   "source": [
    "Y_pred_nn = model.predict(X_test)"
   ]
  },
  {
   "cell_type": "code",
   "execution_count": 53,
   "id": "6cd0693b",
   "metadata": {},
   "outputs": [
    {
     "data": {
      "text/plain": [
       "(61, 1)"
      ]
     },
     "execution_count": 53,
     "metadata": {},
     "output_type": "execute_result"
    }
   ],
   "source": [
    "Y_pred_nn.shape"
   ]
  },
  {
   "cell_type": "code",
   "execution_count": 54,
   "id": "fabc871b",
   "metadata": {},
   "outputs": [],
   "source": [
    "rounded = [round(x[0]) for x in Y_pred_nn]\n",
    "\n",
    "Y_pred_nn = rounded"
   ]
  },
  {
   "cell_type": "code",
   "execution_count": 55,
   "id": "3d3ccba9",
   "metadata": {},
   "outputs": [
    {
     "name": "stdout",
     "output_type": "stream",
     "text": [
      "The accuracy score achieved using Neural Network is: 80.33 %\n"
     ]
    }
   ],
   "source": [
    "score_nn = round(accuracy_score(Y_pred_nn,Y_test)*100,2)\n",
    "\n",
    "print(\"The accuracy score achieved using Neural Network is: \"+str(score_nn)+\" %\")\n",
    "\n",
    "#Note: Accuracy of 85% can be achieved on the test set, by setting epochs=2000, and number of nodes = 11. "
   ]
  },
  {
   "cell_type": "markdown",
   "id": "af784764",
   "metadata": {},
   "source": [
    "# Thank you"
   ]
  }
 ],
 "metadata": {
  "kernelspec": {
   "display_name": "Python 3 (ipykernel)",
   "language": "python",
   "name": "python3"
  },
  "language_info": {
   "codemirror_mode": {
    "name": "ipython",
    "version": 3
   },
   "file_extension": ".py",
   "mimetype": "text/x-python",
   "name": "python",
   "nbconvert_exporter": "python",
   "pygments_lexer": "ipython3",
   "version": "3.10.6"
  }
 },
 "nbformat": 4,
 "nbformat_minor": 5
}
